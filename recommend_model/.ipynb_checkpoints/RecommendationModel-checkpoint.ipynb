{
 "cells": [
  {
   "cell_type": "code",
   "execution_count": 1,
   "id": "cc45b429",
   "metadata": {},
   "outputs": [],
   "source": [
    "import pandas as pd\n",
    "from ast import literal_eval\n",
    "df=pd.read_csv('test_data2.csv')"
   ]
  },
  {
   "cell_type": "code",
   "execution_count": 2,
   "id": "2bda0b44",
   "metadata": {},
   "outputs": [
    {
     "data": {
      "text/html": [
       "<div>\n",
       "<style scoped>\n",
       "    .dataframe tbody tr th:only-of-type {\n",
       "        vertical-align: middle;\n",
       "    }\n",
       "\n",
       "    .dataframe tbody tr th {\n",
       "        vertical-align: top;\n",
       "    }\n",
       "\n",
       "    .dataframe thead th {\n",
       "        text-align: right;\n",
       "    }\n",
       "</style>\n",
       "<table border=\"1\" class=\"dataframe\">\n",
       "  <thead>\n",
       "    <tr style=\"text-align: right;\">\n",
       "      <th></th>\n",
       "      <th>DURATION</th>\n",
       "      <th>WALKING_KIND</th>\n",
       "      <th>WALKING_LEVEL</th>\n",
       "      <th>KEYWORDS</th>\n",
       "    </tr>\n",
       "  </thead>\n",
       "  <tbody>\n",
       "    <tr>\n",
       "      <th>0</th>\n",
       "      <td>toohigh</td>\n",
       "      <td>walk</td>\n",
       "      <td>normal</td>\n",
       "      <td>['쉴수있는벤치가있어요', '배변봉투수거함이있어요']</td>\n",
       "    </tr>\n",
       "    <tr>\n",
       "      <th>1</th>\n",
       "      <td>high</td>\n",
       "      <td>run</td>\n",
       "      <td>hard</td>\n",
       "      <td>['강아지들이많아요', '자전거가많이다녀요']</td>\n",
       "    </tr>\n",
       "    <tr>\n",
       "      <th>2</th>\n",
       "      <td>high</td>\n",
       "      <td>climb</td>\n",
       "      <td>hard</td>\n",
       "      <td>['나무가많아요', '줄을짧게잡아야해요']</td>\n",
       "    </tr>\n",
       "    <tr>\n",
       "      <th>3</th>\n",
       "      <td>low</td>\n",
       "      <td>walk</td>\n",
       "      <td>hard</td>\n",
       "      <td>['들판이있어요', '자전거가많이다녀요']</td>\n",
       "    </tr>\n",
       "    <tr>\n",
       "      <th>4</th>\n",
       "      <td>toohigh</td>\n",
       "      <td>climb</td>\n",
       "      <td>hard</td>\n",
       "      <td>['강아지들이많아요', '자전거가많이다녀요']</td>\n",
       "    </tr>\n",
       "  </tbody>\n",
       "</table>\n",
       "</div>"
      ],
      "text/plain": [
       "  DURATION WALKING_KIND WALKING_LEVEL                       KEYWORDS\n",
       "0  toohigh         walk        normal  ['쉴수있는벤치가있어요', '배변봉투수거함이있어요']\n",
       "1     high          run          hard      ['강아지들이많아요', '자전거가많이다녀요']\n",
       "2     high        climb          hard        ['나무가많아요', '줄을짧게잡아야해요']\n",
       "3      low         walk          hard        ['들판이있어요', '자전거가많이다녀요']\n",
       "4  toohigh        climb          hard      ['강아지들이많아요', '자전거가많이다녀요']"
      ]
     },
     "execution_count": 2,
     "metadata": {},
     "output_type": "execute_result"
    }
   ],
   "source": [
    "df.head()"
   ]
  },
  {
   "cell_type": "code",
   "execution_count": 3,
   "id": "a2296e66",
   "metadata": {},
   "outputs": [],
   "source": [
    "df['KEYWORDS']=df['KEYWORDS'].apply(literal_eval)"
   ]
  },
  {
   "cell_type": "code",
   "execution_count": 4,
   "id": "2bfe0593",
   "metadata": {},
   "outputs": [
    {
     "data": {
      "text/html": [
       "<div>\n",
       "<style scoped>\n",
       "    .dataframe tbody tr th:only-of-type {\n",
       "        vertical-align: middle;\n",
       "    }\n",
       "\n",
       "    .dataframe tbody tr th {\n",
       "        vertical-align: top;\n",
       "    }\n",
       "\n",
       "    .dataframe thead th {\n",
       "        text-align: right;\n",
       "    }\n",
       "</style>\n",
       "<table border=\"1\" class=\"dataframe\">\n",
       "  <thead>\n",
       "    <tr style=\"text-align: right;\">\n",
       "      <th></th>\n",
       "      <th>DURATION</th>\n",
       "      <th>WALKING_KIND</th>\n",
       "      <th>WALKING_LEVEL</th>\n",
       "      <th>KEYWORDS</th>\n",
       "    </tr>\n",
       "  </thead>\n",
       "  <tbody>\n",
       "    <tr>\n",
       "      <th>0</th>\n",
       "      <td>toohigh</td>\n",
       "      <td>walk</td>\n",
       "      <td>normal</td>\n",
       "      <td>[쉴수있는벤치가있어요, 배변봉투수거함이있어요]</td>\n",
       "    </tr>\n",
       "    <tr>\n",
       "      <th>1</th>\n",
       "      <td>high</td>\n",
       "      <td>run</td>\n",
       "      <td>hard</td>\n",
       "      <td>[강아지들이많아요, 자전거가많이다녀요]</td>\n",
       "    </tr>\n",
       "    <tr>\n",
       "      <th>2</th>\n",
       "      <td>high</td>\n",
       "      <td>climb</td>\n",
       "      <td>hard</td>\n",
       "      <td>[나무가많아요, 줄을짧게잡아야해요]</td>\n",
       "    </tr>\n",
       "    <tr>\n",
       "      <th>3</th>\n",
       "      <td>low</td>\n",
       "      <td>walk</td>\n",
       "      <td>hard</td>\n",
       "      <td>[들판이있어요, 자전거가많이다녀요]</td>\n",
       "    </tr>\n",
       "    <tr>\n",
       "      <th>4</th>\n",
       "      <td>toohigh</td>\n",
       "      <td>climb</td>\n",
       "      <td>hard</td>\n",
       "      <td>[강아지들이많아요, 자전거가많이다녀요]</td>\n",
       "    </tr>\n",
       "  </tbody>\n",
       "</table>\n",
       "</div>"
      ],
      "text/plain": [
       "  DURATION WALKING_KIND WALKING_LEVEL                   KEYWORDS\n",
       "0  toohigh         walk        normal  [쉴수있는벤치가있어요, 배변봉투수거함이있어요]\n",
       "1     high          run          hard      [강아지들이많아요, 자전거가많이다녀요]\n",
       "2     high        climb          hard        [나무가많아요, 줄을짧게잡아야해요]\n",
       "3      low         walk          hard        [들판이있어요, 자전거가많이다녀요]\n",
       "4  toohigh        climb          hard      [강아지들이많아요, 자전거가많이다녀요]"
      ]
     },
     "execution_count": 4,
     "metadata": {},
     "output_type": "execute_result"
    }
   ],
   "source": [
    "df.head()"
   ]
  },
  {
   "cell_type": "code",
   "execution_count": 5,
   "id": "c8d451f2",
   "metadata": {},
   "outputs": [],
   "source": [
    "#띄어쓰기 제거함수\n",
    "def clean_data(x):\n",
    "    if isinstance(x,list):\n",
    "        return [i.replace(' ','') for i in x]"
   ]
  },
  {
   "cell_type": "code",
   "execution_count": 6,
   "id": "6a1e8e9d",
   "metadata": {},
   "outputs": [],
   "source": [
    "#빈칸을 기준으로 다 합치는 작업\n",
    "def create_soup(x):\n",
    "    return x['DURATION']+' '+x['WALKING_KIND']+' '+x['WALKING_LEVEL']+' '+' '.join(x['KEYWORDS'])\n"
   ]
  },
  {
   "cell_type": "code",
   "execution_count": 7,
   "id": "e012d8f1",
   "metadata": {},
   "outputs": [
    {
     "data": {
      "text/plain": [
       "0      toohigh walk normal 쉴수있는벤치가있어요 배변봉투수거함이있어요\n",
       "1                high run hard 강아지들이많아요 자전거가많이다녀요\n",
       "2                high climb hard 나무가많아요 줄을짧게잡아야해요\n",
       "3                  low walk hard 들판이있어요 자전거가많이다녀요\n",
       "4           toohigh climb hard 강아지들이많아요 자전거가많이다녀요\n",
       "                          ...                    \n",
       "194                    low run hard 나무가많아요 길이깨끗해요\n",
       "195           verylow walk normal 횡단보도가많아요 길이더러워요\n",
       "196                 low run hard 강아지들이많아요 강아지가없어요\n",
       "197                toohigh run hard 들판이있어요 길이깨끗해요\n",
       "198                  toohigh walk easy 한적해요 변이많아요\n",
       "Name: soup, Length: 199, dtype: object"
      ]
     },
     "execution_count": 7,
     "metadata": {},
     "output_type": "execute_result"
    }
   ],
   "source": [
    "df['soup']=df.apply(create_soup,axis=1)\n",
    "df['soup']"
   ]
  },
  {
   "cell_type": "code",
   "execution_count": 8,
   "id": "2b49addb",
   "metadata": {},
   "outputs": [
    {
     "data": {
      "text/plain": [
       "<199x27 sparse matrix of type '<class 'numpy.int64'>'\n",
       "\twith 995 stored elements in Compressed Sparse Row format>"
      ]
     },
     "execution_count": 8,
     "metadata": {},
     "output_type": "execute_result"
    }
   ],
   "source": [
    "from sklearn.feature_extraction.text import CountVectorizer\n",
    "\n",
    "count=CountVectorizer()\n",
    "count_matrix=count.fit_transform(df['soup'])\n",
    "count_matrix"
   ]
  },
  {
   "cell_type": "code",
   "execution_count": 9,
   "id": "b1132dda",
   "metadata": {},
   "outputs": [
    {
     "data": {
      "text/plain": [
       "str"
      ]
     },
     "execution_count": 9,
     "metadata": {},
     "output_type": "execute_result"
    }
   ],
   "source": [
    "type(df['soup'][0])"
   ]
  },
  {
   "cell_type": "code",
   "execution_count": 10,
   "id": "ffe6f10c",
   "metadata": {},
   "outputs": [
    {
     "data": {
      "text/plain": [
       "<1x27 sparse matrix of type '<class 'numpy.int64'>'\n",
       "\twith 5 stored elements in Compressed Sparse Row format>"
      ]
     },
     "execution_count": 10,
     "metadata": {},
     "output_type": "execute_result"
    }
   ],
   "source": [
    "tmp_input=['middle run hard 들판이있어요 길이깨끗해요']\n",
    "tmp_matrix=count.transform(tmp_input)\n",
    "tmp_matrix"
   ]
  },
  {
   "cell_type": "code",
   "execution_count": 11,
   "id": "69fc1aad",
   "metadata": {},
   "outputs": [
    {
     "data": {
      "text/plain": [
       "array([[0. , 0.4, 0.2, 0.4, 0.2, 0.2, 0.6, 0. , 0.2, 0. , 0. , 0. , 0.2,\n",
       "        0.2, 0.2, 0. , 0.4, 0.4, 0.2, 0.2, 0. , 0. , 0. , 0.4, 0.2, 0.2,\n",
       "        0.4, 0.2, 0. , 0.2, 0. , 0. , 0. , 0. , 0.4, 0.4, 0.2, 0.2, 0.2,\n",
       "        0. , 0.2, 0.2, 0. , 0.4, 0.2, 0.6, 0.2, 0. , 0. , 0.2, 0.2, 0.4,\n",
       "        0.2, 0. , 0.4, 0.2, 0. , 0. , 0.2, 0.4, 0. , 0.4, 0.6, 0.4, 0.4,\n",
       "        0.4, 0.2, 0.2, 0.4, 0. , 0.2, 0.2, 0.4, 0. , 0.2, 0. , 0.2, 0.2,\n",
       "        0. , 0.2, 0.2, 0.4, 0.2, 0.4, 0.2, 0.2, 0.2, 0.2, 0.2, 0.2, 0.4,\n",
       "        0.2, 0.2, 0.4, 0.2, 0. , 0. , 0.2, 0.4, 0.2, 0.2, 0.6, 0.2, 0.4,\n",
       "        0.2, 0.2, 0.2, 0.4, 0. , 0. , 0.2, 0.2, 0. , 0. , 0.4, 0.2, 0. ,\n",
       "        0. , 0.4, 0. , 0.2, 0. , 0.4, 0.2, 0.2, 0.6, 0.2, 0. , 0. , 0.4,\n",
       "        0.2, 0.4, 0.4, 0. , 0.2, 0.2, 0.2, 0. , 0.2, 0. , 0.2, 0. , 0. ,\n",
       "        0.2, 0.6, 0.2, 0.2, 0. , 0. , 0.2, 0.2, 0.4, 0.4, 0. , 0.6, 0.2,\n",
       "        0.6, 0. , 0.2, 0.2, 0. , 0.6, 0.2, 0.2, 0. , 0.6, 0.2, 0.2, 0.2,\n",
       "        0.2, 0. , 0.4, 0.4, 0. , 0. , 0.4, 0.4, 0.6, 0. , 0.2, 0. , 0. ,\n",
       "        0.2, 0.2, 0.2, 0.4, 0.6, 0.4, 0.4, 0. , 0.4, 0.2, 0.4, 0. , 0.6,\n",
       "        0. , 0.4, 0.8, 0. ]])"
      ]
     },
     "execution_count": 11,
     "metadata": {},
     "output_type": "execute_result"
    }
   ],
   "source": [
    "from sklearn.metrics.pairwise import cosine_similarity\n",
    "cosine_sim=cosine_similarity(tmp_matrix,count_matrix)\n",
    "cosine_sim"
   ]
  },
  {
   "cell_type": "code",
   "execution_count": 12,
   "id": "92e87c37",
   "metadata": {},
   "outputs": [
    {
     "data": {
      "text/plain": [
       "(1, 199)"
      ]
     },
     "execution_count": 12,
     "metadata": {},
     "output_type": "execute_result"
    }
   ],
   "source": [
    "cosine_sim.shape"
   ]
  },
  {
   "cell_type": "code",
   "execution_count": 13,
   "id": "dbcf1d96",
   "metadata": {},
   "outputs": [
    {
     "data": {
      "text/html": [
       "<div>\n",
       "<style scoped>\n",
       "    .dataframe tbody tr th:only-of-type {\n",
       "        vertical-align: middle;\n",
       "    }\n",
       "\n",
       "    .dataframe tbody tr th {\n",
       "        vertical-align: top;\n",
       "    }\n",
       "\n",
       "    .dataframe thead th {\n",
       "        text-align: right;\n",
       "    }\n",
       "</style>\n",
       "<table border=\"1\" class=\"dataframe\">\n",
       "  <thead>\n",
       "    <tr style=\"text-align: right;\">\n",
       "      <th></th>\n",
       "      <th>DURATION</th>\n",
       "      <th>WALKING_KIND</th>\n",
       "      <th>WALKING_LEVEL</th>\n",
       "      <th>KEYWORDS</th>\n",
       "      <th>soup</th>\n",
       "    </tr>\n",
       "  </thead>\n",
       "  <tbody>\n",
       "    <tr>\n",
       "      <th>3</th>\n",
       "      <td>low</td>\n",
       "      <td>walk</td>\n",
       "      <td>hard</td>\n",
       "      <td>[들판이있어요, 자전거가많이다녀요]</td>\n",
       "      <td>low walk hard 들판이있어요 자전거가많이다녀요</td>\n",
       "    </tr>\n",
       "  </tbody>\n",
       "</table>\n",
       "</div>"
      ],
      "text/plain": [
       "  DURATION WALKING_KIND WALKING_LEVEL             KEYWORDS  \\\n",
       "3      low         walk          hard  [들판이있어요, 자전거가많이다녀요]   \n",
       "\n",
       "                             soup  \n",
       "3  low walk hard 들판이있어요 자전거가많이다녀요  "
      ]
     },
     "execution_count": 13,
     "metadata": {},
     "output_type": "execute_result"
    }
   ],
   "source": [
    "df.iloc[[3]]"
   ]
  },
  {
   "cell_type": "code",
   "execution_count": 14,
   "id": "9220b99f",
   "metadata": {},
   "outputs": [
    {
     "data": {
      "text/html": [
       "<div>\n",
       "<style scoped>\n",
       "    .dataframe tbody tr th:only-of-type {\n",
       "        vertical-align: middle;\n",
       "    }\n",
       "\n",
       "    .dataframe tbody tr th {\n",
       "        vertical-align: top;\n",
       "    }\n",
       "\n",
       "    .dataframe thead th {\n",
       "        text-align: right;\n",
       "    }\n",
       "</style>\n",
       "<table border=\"1\" class=\"dataframe\">\n",
       "  <thead>\n",
       "    <tr style=\"text-align: right;\">\n",
       "      <th></th>\n",
       "      <th>DURATION</th>\n",
       "      <th>WALKING_KIND</th>\n",
       "      <th>WALKING_LEVEL</th>\n",
       "      <th>KEYWORDS</th>\n",
       "      <th>soup</th>\n",
       "    </tr>\n",
       "  </thead>\n",
       "  <tbody>\n",
       "    <tr>\n",
       "      <th>0</th>\n",
       "      <td>toohigh</td>\n",
       "      <td>walk</td>\n",
       "      <td>normal</td>\n",
       "      <td>[쉴수있는벤치가있어요, 배변봉투수거함이있어요]</td>\n",
       "      <td>toohigh walk normal 쉴수있는벤치가있어요 배변봉투수거함이있어요</td>\n",
       "    </tr>\n",
       "    <tr>\n",
       "      <th>1</th>\n",
       "      <td>high</td>\n",
       "      <td>run</td>\n",
       "      <td>hard</td>\n",
       "      <td>[강아지들이많아요, 자전거가많이다녀요]</td>\n",
       "      <td>high run hard 강아지들이많아요 자전거가많이다녀요</td>\n",
       "    </tr>\n",
       "    <tr>\n",
       "      <th>2</th>\n",
       "      <td>high</td>\n",
       "      <td>climb</td>\n",
       "      <td>hard</td>\n",
       "      <td>[나무가많아요, 줄을짧게잡아야해요]</td>\n",
       "      <td>high climb hard 나무가많아요 줄을짧게잡아야해요</td>\n",
       "    </tr>\n",
       "    <tr>\n",
       "      <th>3</th>\n",
       "      <td>low</td>\n",
       "      <td>walk</td>\n",
       "      <td>hard</td>\n",
       "      <td>[들판이있어요, 자전거가많이다녀요]</td>\n",
       "      <td>low walk hard 들판이있어요 자전거가많이다녀요</td>\n",
       "    </tr>\n",
       "    <tr>\n",
       "      <th>4</th>\n",
       "      <td>toohigh</td>\n",
       "      <td>climb</td>\n",
       "      <td>hard</td>\n",
       "      <td>[강아지들이많아요, 자전거가많이다녀요]</td>\n",
       "      <td>toohigh climb hard 강아지들이많아요 자전거가많이다녀요</td>\n",
       "    </tr>\n",
       "    <tr>\n",
       "      <th>...</th>\n",
       "      <td>...</td>\n",
       "      <td>...</td>\n",
       "      <td>...</td>\n",
       "      <td>...</td>\n",
       "      <td>...</td>\n",
       "    </tr>\n",
       "    <tr>\n",
       "      <th>194</th>\n",
       "      <td>low</td>\n",
       "      <td>run</td>\n",
       "      <td>hard</td>\n",
       "      <td>[나무가많아요, 길이깨끗해요]</td>\n",
       "      <td>low run hard 나무가많아요 길이깨끗해요</td>\n",
       "    </tr>\n",
       "    <tr>\n",
       "      <th>195</th>\n",
       "      <td>verylow</td>\n",
       "      <td>walk</td>\n",
       "      <td>normal</td>\n",
       "      <td>[횡단보도가많아요, 길이더러워요]</td>\n",
       "      <td>verylow walk normal 횡단보도가많아요 길이더러워요</td>\n",
       "    </tr>\n",
       "    <tr>\n",
       "      <th>196</th>\n",
       "      <td>low</td>\n",
       "      <td>run</td>\n",
       "      <td>hard</td>\n",
       "      <td>[강아지들이많아요, 강아지가없어요]</td>\n",
       "      <td>low run hard 강아지들이많아요 강아지가없어요</td>\n",
       "    </tr>\n",
       "    <tr>\n",
       "      <th>197</th>\n",
       "      <td>toohigh</td>\n",
       "      <td>run</td>\n",
       "      <td>hard</td>\n",
       "      <td>[들판이있어요, 길이깨끗해요]</td>\n",
       "      <td>toohigh run hard 들판이있어요 길이깨끗해요</td>\n",
       "    </tr>\n",
       "    <tr>\n",
       "      <th>198</th>\n",
       "      <td>toohigh</td>\n",
       "      <td>walk</td>\n",
       "      <td>easy</td>\n",
       "      <td>[한적해요, 변이많아요]</td>\n",
       "      <td>toohigh walk easy 한적해요 변이많아요</td>\n",
       "    </tr>\n",
       "  </tbody>\n",
       "</table>\n",
       "<p>199 rows × 5 columns</p>\n",
       "</div>"
      ],
      "text/plain": [
       "    DURATION WALKING_KIND WALKING_LEVEL                   KEYWORDS  \\\n",
       "0    toohigh         walk        normal  [쉴수있는벤치가있어요, 배변봉투수거함이있어요]   \n",
       "1       high          run          hard      [강아지들이많아요, 자전거가많이다녀요]   \n",
       "2       high        climb          hard        [나무가많아요, 줄을짧게잡아야해요]   \n",
       "3        low         walk          hard        [들판이있어요, 자전거가많이다녀요]   \n",
       "4    toohigh        climb          hard      [강아지들이많아요, 자전거가많이다녀요]   \n",
       "..       ...          ...           ...                        ...   \n",
       "194      low          run          hard           [나무가많아요, 길이깨끗해요]   \n",
       "195  verylow         walk        normal         [횡단보도가많아요, 길이더러워요]   \n",
       "196      low          run          hard        [강아지들이많아요, 강아지가없어요]   \n",
       "197  toohigh          run          hard           [들판이있어요, 길이깨끗해요]   \n",
       "198  toohigh         walk          easy              [한적해요, 변이많아요]   \n",
       "\n",
       "                                           soup  \n",
       "0    toohigh walk normal 쉴수있는벤치가있어요 배변봉투수거함이있어요  \n",
       "1              high run hard 강아지들이많아요 자전거가많이다녀요  \n",
       "2              high climb hard 나무가많아요 줄을짧게잡아야해요  \n",
       "3                low walk hard 들판이있어요 자전거가많이다녀요  \n",
       "4         toohigh climb hard 강아지들이많아요 자전거가많이다녀요  \n",
       "..                                          ...  \n",
       "194                  low run hard 나무가많아요 길이깨끗해요  \n",
       "195         verylow walk normal 횡단보도가많아요 길이더러워요  \n",
       "196               low run hard 강아지들이많아요 강아지가없어요  \n",
       "197              toohigh run hard 들판이있어요 길이깨끗해요  \n",
       "198                toohigh walk easy 한적해요 변이많아요  \n",
       "\n",
       "[199 rows x 5 columns]"
      ]
     },
     "execution_count": 14,
     "metadata": {},
     "output_type": "execute_result"
    }
   ],
   "source": [
    "df"
   ]
  },
  {
   "cell_type": "code",
   "execution_count": 19,
   "id": "eda48d28",
   "metadata": {},
   "outputs": [],
   "source": [
    "def get_recommendations(cosine_sim=cosine_sim):\n",
    "    sim_scores=list(enumerate(cosine_sim[0]))\n",
    "    sim_scores=sorted(sim_scores,key=lambda x:x[1], reverse=True)\n",
    "    sim_scores=sim_scores[:5]\n",
    "    routes_indices=[i[0] for i in sim_scores]\n",
    "    return routes_indices"
   ]
  },
  {
   "cell_type": "code",
   "execution_count": 16,
   "id": "cb3deb80",
   "metadata": {},
   "outputs": [],
   "source": [
    "test_sim_scores=list(enumerate(cosine_sim[0]))"
   ]
  },
  {
   "cell_type": "code",
   "execution_count": 17,
   "id": "d1252041",
   "metadata": {},
   "outputs": [],
   "source": [
    "test_sim_scores=sorted(test_sim_scores,key=lambda x:x[1], reverse=True)"
   ]
  },
  {
   "cell_type": "code",
   "execution_count": 18,
   "id": "27b712a1",
   "metadata": {},
   "outputs": [
    {
     "data": {
      "text/plain": [
       "[(197, 0.7999999999999999), (6, 0.6), (45, 0.6), (62, 0.6), (101, 0.6)]"
      ]
     },
     "execution_count": 18,
     "metadata": {},
     "output_type": "execute_result"
    }
   ],
   "source": [
    "test_sim_scores[:5]"
   ]
  },
  {
   "cell_type": "code",
   "execution_count": 19,
   "id": "c7e01f40",
   "metadata": {},
   "outputs": [
    {
     "data": {
      "text/plain": [
       "[197, 6, 45, 62, 101]"
      ]
     },
     "execution_count": 19,
     "metadata": {},
     "output_type": "execute_result"
    }
   ],
   "source": [
    "routes_indices=[i[0] for i in test_sim_scores[:5]]\n",
    "routes_indices"
   ]
  },
  {
   "cell_type": "code",
   "execution_count": 20,
   "id": "7a50f100",
   "metadata": {},
   "outputs": [],
   "source": [
    "routes_indices=get_recommendations(cosine_sim)"
   ]
  },
  {
   "cell_type": "code",
   "execution_count": 21,
   "id": "4035f0c6",
   "metadata": {},
   "outputs": [
    {
     "data": {
      "text/html": [
       "<div>\n",
       "<style scoped>\n",
       "    .dataframe tbody tr th:only-of-type {\n",
       "        vertical-align: middle;\n",
       "    }\n",
       "\n",
       "    .dataframe tbody tr th {\n",
       "        vertical-align: top;\n",
       "    }\n",
       "\n",
       "    .dataframe thead th {\n",
       "        text-align: right;\n",
       "    }\n",
       "</style>\n",
       "<table border=\"1\" class=\"dataframe\">\n",
       "  <thead>\n",
       "    <tr style=\"text-align: right;\">\n",
       "      <th></th>\n",
       "      <th>DURATION</th>\n",
       "      <th>WALKING_KIND</th>\n",
       "      <th>WALKING_LEVEL</th>\n",
       "      <th>KEYWORDS</th>\n",
       "      <th>soup</th>\n",
       "    </tr>\n",
       "  </thead>\n",
       "  <tbody>\n",
       "    <tr>\n",
       "      <th>197</th>\n",
       "      <td>toohigh</td>\n",
       "      <td>run</td>\n",
       "      <td>hard</td>\n",
       "      <td>[들판이있어요, 길이깨끗해요]</td>\n",
       "      <td>toohigh run hard 들판이있어요 길이깨끗해요</td>\n",
       "    </tr>\n",
       "    <tr>\n",
       "      <th>6</th>\n",
       "      <td>toohigh</td>\n",
       "      <td>run</td>\n",
       "      <td>hard</td>\n",
       "      <td>[길이깨끗해요, 줄을짧게잡아야해요]</td>\n",
       "      <td>toohigh run hard 길이깨끗해요 줄을짧게잡아야해요</td>\n",
       "    </tr>\n",
       "    <tr>\n",
       "      <th>45</th>\n",
       "      <td>toohigh</td>\n",
       "      <td>run</td>\n",
       "      <td>hard</td>\n",
       "      <td>[길이더러워요, 들판이있어요]</td>\n",
       "      <td>toohigh run hard 길이더러워요 들판이있어요</td>\n",
       "    </tr>\n",
       "    <tr>\n",
       "      <th>62</th>\n",
       "      <td>middle</td>\n",
       "      <td>climb</td>\n",
       "      <td>hard</td>\n",
       "      <td>[길이깨끗해요, 자전거가많이다녀요]</td>\n",
       "      <td>middle climb hard 길이깨끗해요 자전거가많이다녀요</td>\n",
       "    </tr>\n",
       "    <tr>\n",
       "      <th>101</th>\n",
       "      <td>middle</td>\n",
       "      <td>run</td>\n",
       "      <td>hard</td>\n",
       "      <td>[나무가많아요, 길이더러워요]</td>\n",
       "      <td>middle run hard 나무가많아요 길이더러워요</td>\n",
       "    </tr>\n",
       "  </tbody>\n",
       "</table>\n",
       "</div>"
      ],
      "text/plain": [
       "    DURATION WALKING_KIND WALKING_LEVEL             KEYWORDS  \\\n",
       "197  toohigh          run          hard     [들판이있어요, 길이깨끗해요]   \n",
       "6    toohigh          run          hard  [길이깨끗해요, 줄을짧게잡아야해요]   \n",
       "45   toohigh          run          hard     [길이더러워요, 들판이있어요]   \n",
       "62    middle        climb          hard  [길이깨끗해요, 자전거가많이다녀요]   \n",
       "101   middle          run          hard     [나무가많아요, 길이더러워요]   \n",
       "\n",
       "                                   soup  \n",
       "197      toohigh run hard 들판이있어요 길이깨끗해요  \n",
       "6     toohigh run hard 길이깨끗해요 줄을짧게잡아야해요  \n",
       "45       toohigh run hard 길이더러워요 들판이있어요  \n",
       "62   middle climb hard 길이깨끗해요 자전거가많이다녀요  \n",
       "101       middle run hard 나무가많아요 길이더러워요  "
      ]
     },
     "execution_count": 21,
     "metadata": {},
     "output_type": "execute_result"
    }
   ],
   "source": [
    "df.iloc[routes_indices]"
   ]
  },
  {
   "cell_type": "code",
   "execution_count": 22,
   "id": "7c1ea3d0",
   "metadata": {},
   "outputs": [],
   "source": [
    "tmp_input=['middle run hard 들판이있어요 길이깨끗해요']"
   ]
  },
  {
   "cell_type": "code",
   "execution_count": 23,
   "id": "0c1ff878",
   "metadata": {},
   "outputs": [
    {
     "data": {
      "text/html": [
       "<div>\n",
       "<style scoped>\n",
       "    .dataframe tbody tr th:only-of-type {\n",
       "        vertical-align: middle;\n",
       "    }\n",
       "\n",
       "    .dataframe tbody tr th {\n",
       "        vertical-align: top;\n",
       "    }\n",
       "\n",
       "    .dataframe thead th {\n",
       "        text-align: right;\n",
       "    }\n",
       "</style>\n",
       "<table border=\"1\" class=\"dataframe\">\n",
       "  <thead>\n",
       "    <tr style=\"text-align: right;\">\n",
       "      <th></th>\n",
       "      <th>DURATION</th>\n",
       "      <th>WALKING_KIND</th>\n",
       "      <th>WALKING_LEVEL</th>\n",
       "      <th>KEYWORDS</th>\n",
       "      <th>soup</th>\n",
       "    </tr>\n",
       "  </thead>\n",
       "  <tbody>\n",
       "    <tr>\n",
       "      <th>0</th>\n",
       "      <td>toohigh</td>\n",
       "      <td>walk</td>\n",
       "      <td>normal</td>\n",
       "      <td>[쉴수있는벤치가있어요, 배변봉투수거함이있어요]</td>\n",
       "      <td>toohigh walk normal 쉴수있는벤치가있어요 배변봉투수거함이있어요</td>\n",
       "    </tr>\n",
       "    <tr>\n",
       "      <th>1</th>\n",
       "      <td>high</td>\n",
       "      <td>run</td>\n",
       "      <td>hard</td>\n",
       "      <td>[강아지들이많아요, 자전거가많이다녀요]</td>\n",
       "      <td>high run hard 강아지들이많아요 자전거가많이다녀요</td>\n",
       "    </tr>\n",
       "    <tr>\n",
       "      <th>2</th>\n",
       "      <td>high</td>\n",
       "      <td>climb</td>\n",
       "      <td>hard</td>\n",
       "      <td>[나무가많아요, 줄을짧게잡아야해요]</td>\n",
       "      <td>high climb hard 나무가많아요 줄을짧게잡아야해요</td>\n",
       "    </tr>\n",
       "    <tr>\n",
       "      <th>3</th>\n",
       "      <td>low</td>\n",
       "      <td>walk</td>\n",
       "      <td>hard</td>\n",
       "      <td>[들판이있어요, 자전거가많이다녀요]</td>\n",
       "      <td>low walk hard 들판이있어요 자전거가많이다녀요</td>\n",
       "    </tr>\n",
       "    <tr>\n",
       "      <th>4</th>\n",
       "      <td>toohigh</td>\n",
       "      <td>climb</td>\n",
       "      <td>hard</td>\n",
       "      <td>[강아지들이많아요, 자전거가많이다녀요]</td>\n",
       "      <td>toohigh climb hard 강아지들이많아요 자전거가많이다녀요</td>\n",
       "    </tr>\n",
       "    <tr>\n",
       "      <th>...</th>\n",
       "      <td>...</td>\n",
       "      <td>...</td>\n",
       "      <td>...</td>\n",
       "      <td>...</td>\n",
       "      <td>...</td>\n",
       "    </tr>\n",
       "    <tr>\n",
       "      <th>194</th>\n",
       "      <td>low</td>\n",
       "      <td>run</td>\n",
       "      <td>hard</td>\n",
       "      <td>[나무가많아요, 길이깨끗해요]</td>\n",
       "      <td>low run hard 나무가많아요 길이깨끗해요</td>\n",
       "    </tr>\n",
       "    <tr>\n",
       "      <th>195</th>\n",
       "      <td>verylow</td>\n",
       "      <td>walk</td>\n",
       "      <td>normal</td>\n",
       "      <td>[횡단보도가많아요, 길이더러워요]</td>\n",
       "      <td>verylow walk normal 횡단보도가많아요 길이더러워요</td>\n",
       "    </tr>\n",
       "    <tr>\n",
       "      <th>196</th>\n",
       "      <td>low</td>\n",
       "      <td>run</td>\n",
       "      <td>hard</td>\n",
       "      <td>[강아지들이많아요, 강아지가없어요]</td>\n",
       "      <td>low run hard 강아지들이많아요 강아지가없어요</td>\n",
       "    </tr>\n",
       "    <tr>\n",
       "      <th>197</th>\n",
       "      <td>toohigh</td>\n",
       "      <td>run</td>\n",
       "      <td>hard</td>\n",
       "      <td>[들판이있어요, 길이깨끗해요]</td>\n",
       "      <td>toohigh run hard 들판이있어요 길이깨끗해요</td>\n",
       "    </tr>\n",
       "    <tr>\n",
       "      <th>198</th>\n",
       "      <td>toohigh</td>\n",
       "      <td>walk</td>\n",
       "      <td>easy</td>\n",
       "      <td>[한적해요, 변이많아요]</td>\n",
       "      <td>toohigh walk easy 한적해요 변이많아요</td>\n",
       "    </tr>\n",
       "  </tbody>\n",
       "</table>\n",
       "<p>199 rows × 5 columns</p>\n",
       "</div>"
      ],
      "text/plain": [
       "    DURATION WALKING_KIND WALKING_LEVEL                   KEYWORDS  \\\n",
       "0    toohigh         walk        normal  [쉴수있는벤치가있어요, 배변봉투수거함이있어요]   \n",
       "1       high          run          hard      [강아지들이많아요, 자전거가많이다녀요]   \n",
       "2       high        climb          hard        [나무가많아요, 줄을짧게잡아야해요]   \n",
       "3        low         walk          hard        [들판이있어요, 자전거가많이다녀요]   \n",
       "4    toohigh        climb          hard      [강아지들이많아요, 자전거가많이다녀요]   \n",
       "..       ...          ...           ...                        ...   \n",
       "194      low          run          hard           [나무가많아요, 길이깨끗해요]   \n",
       "195  verylow         walk        normal         [횡단보도가많아요, 길이더러워요]   \n",
       "196      low          run          hard        [강아지들이많아요, 강아지가없어요]   \n",
       "197  toohigh          run          hard           [들판이있어요, 길이깨끗해요]   \n",
       "198  toohigh         walk          easy              [한적해요, 변이많아요]   \n",
       "\n",
       "                                           soup  \n",
       "0    toohigh walk normal 쉴수있는벤치가있어요 배변봉투수거함이있어요  \n",
       "1              high run hard 강아지들이많아요 자전거가많이다녀요  \n",
       "2              high climb hard 나무가많아요 줄을짧게잡아야해요  \n",
       "3                low walk hard 들판이있어요 자전거가많이다녀요  \n",
       "4         toohigh climb hard 강아지들이많아요 자전거가많이다녀요  \n",
       "..                                          ...  \n",
       "194                  low run hard 나무가많아요 길이깨끗해요  \n",
       "195         verylow walk normal 횡단보도가많아요 길이더러워요  \n",
       "196               low run hard 강아지들이많아요 강아지가없어요  \n",
       "197              toohigh run hard 들판이있어요 길이깨끗해요  \n",
       "198                toohigh walk easy 한적해요 변이많아요  \n",
       "\n",
       "[199 rows x 5 columns]"
      ]
     },
     "execution_count": 23,
     "metadata": {},
     "output_type": "execute_result"
    }
   ],
   "source": [
    "df"
   ]
  },
  {
   "cell_type": "code",
   "execution_count": 12,
   "id": "faa0acdd",
   "metadata": {},
   "outputs": [],
   "source": [
    "routeList=[{'userEmail': 'woong@mail.com', 'minutes': 40, 'personAge': '30대 이하', 'dogAge': '0~4살', 'walkKind': 'CLIMB', 'walkLevel': 'HARD', 'walkStatis': '중간', 'keyword1': 'asdf', 'keyword2': 'dfadf', 'minutesWord': 'LOW'}, {'userEmail': 'woong@mail.com', 'minutes': 0, 'personAge': '40대', 'dogAge': '5~8살', 'walkKind': 'WALK', 'walkLevel': 'EASY', 'walkStatis': '높음', 'keyword1': '강아지가 없어요', 'keyword2': '줄을 짧게 잡아야 해요', 'minutesWord': 'VERYLOW'}]"
   ]
  },
  {
   "cell_type": "code",
   "execution_count": 13,
   "id": "4730097a",
   "metadata": {},
   "outputs": [
    {
     "name": "stdout",
     "output_type": "stream",
     "text": [
      "[{'userEmail': 'woong@mail.com', 'minutes': 40, 'personAge': '30대 이하', 'dogAge': '0~4살', 'walkKind': 'CLIMB', 'walkLevel': 'HARD', 'walkStatis': '중간', 'keyword1': 'asdf', 'keyword2': 'dfadf', 'minutesWord': 'LOW'}, {'userEmail': 'woong@mail.com', 'minutes': 0, 'personAge': '40대', 'dogAge': '5~8살', 'walkKind': 'WALK', 'walkLevel': 'EASY', 'walkStatis': '높음', 'keyword1': '강아지가 없어요', 'keyword2': '줄을 짧게 잡아야 해요', 'minutesWord': 'VERYLOW'}]\n"
     ]
    }
   ],
   "source": [
    "print(routeList)"
   ]
  },
  {
   "cell_type": "code",
   "execution_count": 14,
   "id": "d5bafc4b",
   "metadata": {},
   "outputs": [
    {
     "data": {
      "text/plain": [
       "list"
      ]
     },
     "execution_count": 14,
     "metadata": {},
     "output_type": "execute_result"
    }
   ],
   "source": [
    "type(routeList)"
   ]
  },
  {
   "cell_type": "code",
   "execution_count": 15,
   "id": "4f5d3751",
   "metadata": {},
   "outputs": [],
   "source": [
    "import pandas as pd"
   ]
  },
  {
   "cell_type": "code",
   "execution_count": 16,
   "id": "70eb9042",
   "metadata": {},
   "outputs": [],
   "source": [
    "df = pd.DataFrame(routeList)"
   ]
  },
  {
   "cell_type": "code",
   "execution_count": 17,
   "id": "6f2ab392",
   "metadata": {},
   "outputs": [
    {
     "data": {
      "text/html": [
       "<div>\n",
       "<style scoped>\n",
       "    .dataframe tbody tr th:only-of-type {\n",
       "        vertical-align: middle;\n",
       "    }\n",
       "\n",
       "    .dataframe tbody tr th {\n",
       "        vertical-align: top;\n",
       "    }\n",
       "\n",
       "    .dataframe thead th {\n",
       "        text-align: right;\n",
       "    }\n",
       "</style>\n",
       "<table border=\"1\" class=\"dataframe\">\n",
       "  <thead>\n",
       "    <tr style=\"text-align: right;\">\n",
       "      <th></th>\n",
       "      <th>userEmail</th>\n",
       "      <th>minutes</th>\n",
       "      <th>personAge</th>\n",
       "      <th>dogAge</th>\n",
       "      <th>walkKind</th>\n",
       "      <th>walkLevel</th>\n",
       "      <th>walkStatis</th>\n",
       "      <th>keyword1</th>\n",
       "      <th>keyword2</th>\n",
       "      <th>minutesWord</th>\n",
       "    </tr>\n",
       "  </thead>\n",
       "  <tbody>\n",
       "    <tr>\n",
       "      <th>0</th>\n",
       "      <td>woong@mail.com</td>\n",
       "      <td>40</td>\n",
       "      <td>30대 이하</td>\n",
       "      <td>0~4살</td>\n",
       "      <td>CLIMB</td>\n",
       "      <td>HARD</td>\n",
       "      <td>중간</td>\n",
       "      <td>asdf</td>\n",
       "      <td>dfadf</td>\n",
       "      <td>LOW</td>\n",
       "    </tr>\n",
       "    <tr>\n",
       "      <th>1</th>\n",
       "      <td>woong@mail.com</td>\n",
       "      <td>0</td>\n",
       "      <td>40대</td>\n",
       "      <td>5~8살</td>\n",
       "      <td>WALK</td>\n",
       "      <td>EASY</td>\n",
       "      <td>높음</td>\n",
       "      <td>강아지가 없어요</td>\n",
       "      <td>줄을 짧게 잡아야 해요</td>\n",
       "      <td>VERYLOW</td>\n",
       "    </tr>\n",
       "  </tbody>\n",
       "</table>\n",
       "</div>"
      ],
      "text/plain": [
       "        userEmail  minutes personAge dogAge walkKind walkLevel walkStatis  \\\n",
       "0  woong@mail.com       40    30대 이하   0~4살    CLIMB      HARD         중간   \n",
       "1  woong@mail.com        0       40대   5~8살     WALK      EASY         높음   \n",
       "\n",
       "   keyword1      keyword2 minutesWord  \n",
       "0      asdf         dfadf         LOW  \n",
       "1  강아지가 없어요  줄을 짧게 잡아야 해요     VERYLOW  "
      ]
     },
     "execution_count": 17,
     "metadata": {},
     "output_type": "execute_result"
    }
   ],
   "source": [
    "df"
   ]
  },
  {
   "cell_type": "code",
   "execution_count": 18,
   "id": "94297d1b",
   "metadata": {},
   "outputs": [],
   "source": [
    "def clean_data(x):\n",
    "    if isinstance(x,str):\n",
    "        return x.replace(' ','')"
   ]
  },
  {
   "cell_type": "code",
   "execution_count": 19,
   "id": "83575eba",
   "metadata": {},
   "outputs": [],
   "source": [
    "features =['keyword1','keyword2']\n",
    "for feature in features:\n",
    "    df[feature]=df[feature].apply(clean_data)"
   ]
  },
  {
   "cell_type": "code",
   "execution_count": 20,
   "id": "aa84c964",
   "metadata": {},
   "outputs": [
    {
     "data": {
      "text/html": [
       "<div>\n",
       "<style scoped>\n",
       "    .dataframe tbody tr th:only-of-type {\n",
       "        vertical-align: middle;\n",
       "    }\n",
       "\n",
       "    .dataframe tbody tr th {\n",
       "        vertical-align: top;\n",
       "    }\n",
       "\n",
       "    .dataframe thead th {\n",
       "        text-align: right;\n",
       "    }\n",
       "</style>\n",
       "<table border=\"1\" class=\"dataframe\">\n",
       "  <thead>\n",
       "    <tr style=\"text-align: right;\">\n",
       "      <th></th>\n",
       "      <th>userEmail</th>\n",
       "      <th>minutes</th>\n",
       "      <th>personAge</th>\n",
       "      <th>dogAge</th>\n",
       "      <th>walkKind</th>\n",
       "      <th>walkLevel</th>\n",
       "      <th>walkStatis</th>\n",
       "      <th>keyword1</th>\n",
       "      <th>keyword2</th>\n",
       "      <th>minutesWord</th>\n",
       "    </tr>\n",
       "  </thead>\n",
       "  <tbody>\n",
       "    <tr>\n",
       "      <th>0</th>\n",
       "      <td>woong@mail.com</td>\n",
       "      <td>40</td>\n",
       "      <td>30대 이하</td>\n",
       "      <td>0~4살</td>\n",
       "      <td>CLIMB</td>\n",
       "      <td>HARD</td>\n",
       "      <td>중간</td>\n",
       "      <td>asdf</td>\n",
       "      <td>dfadf</td>\n",
       "      <td>LOW</td>\n",
       "    </tr>\n",
       "    <tr>\n",
       "      <th>1</th>\n",
       "      <td>woong@mail.com</td>\n",
       "      <td>0</td>\n",
       "      <td>40대</td>\n",
       "      <td>5~8살</td>\n",
       "      <td>WALK</td>\n",
       "      <td>EASY</td>\n",
       "      <td>높음</td>\n",
       "      <td>강아지가없어요</td>\n",
       "      <td>줄을짧게잡아야해요</td>\n",
       "      <td>VERYLOW</td>\n",
       "    </tr>\n",
       "  </tbody>\n",
       "</table>\n",
       "</div>"
      ],
      "text/plain": [
       "        userEmail  minutes personAge dogAge walkKind walkLevel walkStatis  \\\n",
       "0  woong@mail.com       40    30대 이하   0~4살    CLIMB      HARD         중간   \n",
       "1  woong@mail.com        0       40대   5~8살     WALK      EASY         높음   \n",
       "\n",
       "  keyword1   keyword2 minutesWord  \n",
       "0     asdf      dfadf         LOW  \n",
       "1  강아지가없어요  줄을짧게잡아야해요     VERYLOW  "
      ]
     },
     "execution_count": 20,
     "metadata": {},
     "output_type": "execute_result"
    }
   ],
   "source": [
    "df"
   ]
  },
  {
   "cell_type": "code",
   "execution_count": 21,
   "id": "1e462861",
   "metadata": {},
   "outputs": [
    {
     "data": {
      "text/plain": [
       "0              CLIMB HARD LOW asdf dfadf\n",
       "1    WALK EASY VERYLOW 강아지가없어요 줄을짧게잡아야해요\n",
       "Name: soup, dtype: object"
      ]
     },
     "execution_count": 21,
     "metadata": {},
     "output_type": "execute_result"
    }
   ],
   "source": [
    "#빈칸을 기준으로 다 합치는 작업\n",
    "def create_soup(x):\n",
    "    return x['walkKind']+' '+x['walkLevel']+' '+x['minutesWord']+' '+x['keyword1']+' '+x['keyword2']\n",
    "\n",
    "df['soup']=df.apply(create_soup,axis=1)\n",
    "df['soup']"
   ]
  },
  {
   "cell_type": "code",
   "execution_count": 22,
   "id": "5a81549a",
   "metadata": {},
   "outputs": [
    {
     "data": {
      "text/plain": [
       "<2x10 sparse matrix of type '<class 'numpy.int64'>'\n",
       "\twith 10 stored elements in Compressed Sparse Row format>"
      ]
     },
     "execution_count": 22,
     "metadata": {},
     "output_type": "execute_result"
    }
   ],
   "source": [
    "from sklearn.feature_extraction.text import CountVectorizer\n",
    "\n",
    "count=CountVectorizer()\n",
    "count_matrix=count.fit_transform(df['soup'])\n",
    "count_matrix"
   ]
  },
  {
   "cell_type": "code",
   "execution_count": 23,
   "id": "b1836603",
   "metadata": {},
   "outputs": [
    {
     "data": {
      "text/plain": [
       "<1x10 sparse matrix of type '<class 'numpy.int64'>'\n",
       "\twith 3 stored elements in Compressed Sparse Row format>"
      ]
     },
     "execution_count": 23,
     "metadata": {},
     "output_type": "execute_result"
    }
   ],
   "source": [
    "tmp_input=['WALK HARD LOW 들판이있어요 길이깨끗해요']\n",
    "tmp_matrix=count.transform(tmp_input)\n",
    "tmp_matrix"
   ]
  },
  {
   "cell_type": "code",
   "execution_count": 24,
   "id": "0e9e1923",
   "metadata": {},
   "outputs": [
    {
     "data": {
      "text/plain": [
       "array([[0.51639778, 0.25819889]])"
      ]
     },
     "execution_count": 24,
     "metadata": {},
     "output_type": "execute_result"
    }
   ],
   "source": [
    "from sklearn.metrics.pairwise import cosine_similarity\n",
    "cosine_sim=cosine_similarity(tmp_matrix,count_matrix)\n",
    "cosine_sim"
   ]
  },
  {
   "cell_type": "code",
   "execution_count": 25,
   "id": "78625df4",
   "metadata": {},
   "outputs": [
    {
     "data": {
      "text/plain": [
       "(1, 2)"
      ]
     },
     "execution_count": 25,
     "metadata": {},
     "output_type": "execute_result"
    }
   ],
   "source": [
    "cosine_sim.shape"
   ]
  },
  {
   "cell_type": "code",
   "execution_count": 26,
   "id": "323eca0d",
   "metadata": {},
   "outputs": [
    {
     "data": {
      "text/html": [
       "<div>\n",
       "<style scoped>\n",
       "    .dataframe tbody tr th:only-of-type {\n",
       "        vertical-align: middle;\n",
       "    }\n",
       "\n",
       "    .dataframe tbody tr th {\n",
       "        vertical-align: top;\n",
       "    }\n",
       "\n",
       "    .dataframe thead th {\n",
       "        text-align: right;\n",
       "    }\n",
       "</style>\n",
       "<table border=\"1\" class=\"dataframe\">\n",
       "  <thead>\n",
       "    <tr style=\"text-align: right;\">\n",
       "      <th></th>\n",
       "      <th>userEmail</th>\n",
       "      <th>minutes</th>\n",
       "      <th>personAge</th>\n",
       "      <th>dogAge</th>\n",
       "      <th>walkKind</th>\n",
       "      <th>walkLevel</th>\n",
       "      <th>walkStatis</th>\n",
       "      <th>keyword1</th>\n",
       "      <th>keyword2</th>\n",
       "      <th>minutesWord</th>\n",
       "      <th>soup</th>\n",
       "    </tr>\n",
       "  </thead>\n",
       "  <tbody>\n",
       "    <tr>\n",
       "      <th>0</th>\n",
       "      <td>woong@mail.com</td>\n",
       "      <td>40</td>\n",
       "      <td>30대 이하</td>\n",
       "      <td>0~4살</td>\n",
       "      <td>CLIMB</td>\n",
       "      <td>HARD</td>\n",
       "      <td>중간</td>\n",
       "      <td>asdf</td>\n",
       "      <td>dfadf</td>\n",
       "      <td>LOW</td>\n",
       "      <td>CLIMB HARD LOW asdf dfadf</td>\n",
       "    </tr>\n",
       "    <tr>\n",
       "      <th>1</th>\n",
       "      <td>woong@mail.com</td>\n",
       "      <td>0</td>\n",
       "      <td>40대</td>\n",
       "      <td>5~8살</td>\n",
       "      <td>WALK</td>\n",
       "      <td>EASY</td>\n",
       "      <td>높음</td>\n",
       "      <td>강아지가없어요</td>\n",
       "      <td>줄을짧게잡아야해요</td>\n",
       "      <td>VERYLOW</td>\n",
       "      <td>WALK EASY VERYLOW 강아지가없어요 줄을짧게잡아야해요</td>\n",
       "    </tr>\n",
       "  </tbody>\n",
       "</table>\n",
       "</div>"
      ],
      "text/plain": [
       "        userEmail  minutes personAge dogAge walkKind walkLevel walkStatis  \\\n",
       "0  woong@mail.com       40    30대 이하   0~4살    CLIMB      HARD         중간   \n",
       "1  woong@mail.com        0       40대   5~8살     WALK      EASY         높음   \n",
       "\n",
       "  keyword1   keyword2 minutesWord                                 soup  \n",
       "0     asdf      dfadf         LOW            CLIMB HARD LOW asdf dfadf  \n",
       "1  강아지가없어요  줄을짧게잡아야해요     VERYLOW  WALK EASY VERYLOW 강아지가없어요 줄을짧게잡아야해요  "
      ]
     },
     "execution_count": 26,
     "metadata": {},
     "output_type": "execute_result"
    }
   ],
   "source": [
    "df"
   ]
  },
  {
   "cell_type": "code",
   "execution_count": 28,
   "id": "b23845f0",
   "metadata": {},
   "outputs": [],
   "source": [
    "def get_recommendations(cosine_sim=cosine_sim):\n",
    "    sim_scores=list(enumerate(cosine_sim[0]))\n",
    "    sim_scores=sorted(sim_scores,key=lambda x:x[1], reverse=True)\n",
    "    sim_scores=sim_scores[:5]\n",
    "    routes_indices=[i[0] for i in sim_scores]\n",
    "    return routes_indices"
   ]
  },
  {
   "cell_type": "code",
   "execution_count": 32,
   "id": "2bd7b796",
   "metadata": {},
   "outputs": [],
   "source": [
    "routes_indices=get_recommendations(cosine_sim)"
   ]
  },
  {
   "cell_type": "code",
   "execution_count": 33,
   "id": "819a47bc",
   "metadata": {},
   "outputs": [
    {
     "data": {
      "text/html": [
       "<div>\n",
       "<style scoped>\n",
       "    .dataframe tbody tr th:only-of-type {\n",
       "        vertical-align: middle;\n",
       "    }\n",
       "\n",
       "    .dataframe tbody tr th {\n",
       "        vertical-align: top;\n",
       "    }\n",
       "\n",
       "    .dataframe thead th {\n",
       "        text-align: right;\n",
       "    }\n",
       "</style>\n",
       "<table border=\"1\" class=\"dataframe\">\n",
       "  <thead>\n",
       "    <tr style=\"text-align: right;\">\n",
       "      <th></th>\n",
       "      <th>userEmail</th>\n",
       "      <th>minutes</th>\n",
       "      <th>personAge</th>\n",
       "      <th>dogAge</th>\n",
       "      <th>walkKind</th>\n",
       "      <th>walkLevel</th>\n",
       "      <th>walkStatis</th>\n",
       "      <th>keyword1</th>\n",
       "      <th>keyword2</th>\n",
       "      <th>minutesWord</th>\n",
       "      <th>soup</th>\n",
       "    </tr>\n",
       "  </thead>\n",
       "  <tbody>\n",
       "    <tr>\n",
       "      <th>0</th>\n",
       "      <td>woong@mail.com</td>\n",
       "      <td>40</td>\n",
       "      <td>30대 이하</td>\n",
       "      <td>0~4살</td>\n",
       "      <td>CLIMB</td>\n",
       "      <td>HARD</td>\n",
       "      <td>중간</td>\n",
       "      <td>asdf</td>\n",
       "      <td>dfadf</td>\n",
       "      <td>LOW</td>\n",
       "      <td>CLIMB HARD LOW asdf dfadf</td>\n",
       "    </tr>\n",
       "    <tr>\n",
       "      <th>1</th>\n",
       "      <td>woong@mail.com</td>\n",
       "      <td>0</td>\n",
       "      <td>40대</td>\n",
       "      <td>5~8살</td>\n",
       "      <td>WALK</td>\n",
       "      <td>EASY</td>\n",
       "      <td>높음</td>\n",
       "      <td>강아지가없어요</td>\n",
       "      <td>줄을짧게잡아야해요</td>\n",
       "      <td>VERYLOW</td>\n",
       "      <td>WALK EASY VERYLOW 강아지가없어요 줄을짧게잡아야해요</td>\n",
       "    </tr>\n",
       "  </tbody>\n",
       "</table>\n",
       "</div>"
      ],
      "text/plain": [
       "        userEmail  minutes personAge dogAge walkKind walkLevel walkStatis  \\\n",
       "0  woong@mail.com       40    30대 이하   0~4살    CLIMB      HARD         중간   \n",
       "1  woong@mail.com        0       40대   5~8살     WALK      EASY         높음   \n",
       "\n",
       "  keyword1   keyword2 minutesWord                                 soup  \n",
       "0     asdf      dfadf         LOW            CLIMB HARD LOW asdf dfadf  \n",
       "1  강아지가없어요  줄을짧게잡아야해요     VERYLOW  WALK EASY VERYLOW 강아지가없어요 줄을짧게잡아야해요  "
      ]
     },
     "execution_count": 33,
     "metadata": {},
     "output_type": "execute_result"
    }
   ],
   "source": [
    "df.iloc[routes_indices]"
   ]
  },
  {
   "cell_type": "code",
   "execution_count": null,
   "id": "5a9004dc",
   "metadata": {},
   "outputs": [],
   "source": []
  }
 ],
 "metadata": {
  "kernelspec": {
   "display_name": "Python 3 (ipykernel)",
   "language": "python",
   "name": "python3"
  },
  "language_info": {
   "codemirror_mode": {
    "name": "ipython",
    "version": 3
   },
   "file_extension": ".py",
   "mimetype": "text/x-python",
   "name": "python",
   "nbconvert_exporter": "python",
   "pygments_lexer": "ipython3",
   "version": "3.10.9"
  }
 },
 "nbformat": 4,
 "nbformat_minor": 5
}
