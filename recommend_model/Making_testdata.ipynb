{
 "cells": [
  {
   "cell_type": "code",
   "execution_count": 1,
   "id": "6ece2ea5",
   "metadata": {},
   "outputs": [],
   "source": [
    "import pandas as pd\n",
    "from random import *\n",
    "walkingTime=['verylow','low','middle','high','toohigh']\n",
    "walkingKind=['walk','run','climb']\n",
    "walkingLevel=['easy','normal','hard']\n",
    "walkingKeywords=['변이많아요','횡단보도가많아요','한적해요','배변봉투수거함이있어요','들판이있어요','사람이많아요','자전거가많이다녀요','길이깨끗해요','길이더러워요','뛰어놀수있는곳이있어요','강아지들이많아요','강아지가없어요','줄을짧게잡아야해요','쉴수있는벤치가있어요','그늘이많아요','나무가많아요']\n",
    "userTimeData=[]\n",
    "userKindData=[]\n",
    "userLevelData=[]\n",
    "userKeywordsData=[]"
   ]
  },
  {
   "cell_type": "code",
   "execution_count": 2,
   "id": "b4d39cee",
   "metadata": {},
   "outputs": [],
   "source": [
    "for i in range(1,200):\n",
    "    timeIdx=randint(0,len(walkingTime)-1)\n",
    "    kindIdx=randint(0,len(walkingKind)-1)\n",
    "    levelIdx=randint(0,len(walkingLevel)-1)\n",
    "    keywordsIdx=randint(0,len(walkingKeywords)-1)\n",
    "    userTimeData.append(walkingTime[timeIdx])\n",
    "    userKindData.append(walkingKind[kindIdx])\n",
    "    userLevelData.append(walkingLevel[levelIdx])\n",
    "    "
   ]
  },
  {
   "cell_type": "code",
   "execution_count": 3,
   "id": "51ed77a0",
   "metadata": {},
   "outputs": [
    {
     "name": "stdout",
     "output_type": "stream",
     "text": [
      "[['강아지들이많아요', '사람이많아요'], ['길이더러워요', '자전거가많이다녀요'], ['뛰어놀수있는곳이있어요', '나무가많아요'], ['횡단보도가많아요', '그늘이많아요'], ['한적해요', '그늘이많아요'], ['쉴수있는벤치가있어요', '길이깨끗해요'], ['뛰어놀수있는곳이있어요', '나무가많아요'], ['길이더러워요', '들판이있어요'], ['강아지들이많아요', '길이더러워요'], ['배변봉투수거함이있어요', '변이많아요'], ['줄을짧게잡아야해요', '길이깨끗해요'], ['횡단보도가많아요', '들판이있어요'], ['사람이많아요', '한적해요'], ['강아지들이많아요', '변이많아요'], ['강아지가없어요', '뛰어놀수있는곳이있어요'], ['횡단보도가많아요', '강아지가없어요'], ['배변봉투수거함이있어요', '사람이많아요'], ['한적해요', '횡단보도가많아요'], ['강아지들이많아요', '뛰어놀수있는곳이있어요'], ['사람이많아요', '그늘이많아요'], ['그늘이많아요', '자전거가많이다녀요'], ['자전거가많이다녀요', '한적해요'], ['뛰어놀수있는곳이있어요', '들판이있어요'], ['들판이있어요', '강아지가없어요'], ['횡단보도가많아요', '나무가많아요'], ['자전거가많이다녀요', '횡단보도가많아요'], ['배변봉투수거함이있어요', '줄을짧게잡아야해요'], ['뛰어놀수있는곳이있어요', '길이더러워요'], ['횡단보도가많아요', '길이깨끗해요'], ['강아지가없어요', '길이더러워요'], ['나무가많아요', '길이깨끗해요'], ['줄을짧게잡아야해요', '들판이있어요'], ['강아지가없어요', '배변봉투수거함이있어요'], ['강아지들이많아요', '변이많아요'], ['한적해요', '자전거가많이다녀요'], ['들판이있어요', '그늘이많아요'], ['나무가많아요', '길이깨끗해요'], ['강아지들이많아요', '나무가많아요'], ['줄을짧게잡아야해요', '강아지가없어요'], ['사람이많아요', '길이더러워요'], ['나무가많아요', '변이많아요'], ['자전거가많이다녀요', '들판이있어요'], ['쉴수있는벤치가있어요', '배변봉투수거함이있어요'], ['사람이많아요', '한적해요'], ['들판이있어요', '강아지들이많아요'], ['사람이많아요', '강아지들이많아요'], ['뛰어놀수있는곳이있어요', '변이많아요'], ['뛰어놀수있는곳이있어요', '들판이있어요'], ['그늘이많아요', '강아지가없어요'], ['횡단보도가많아요', '자전거가많이다녀요'], ['강아지가없어요', '길이깨끗해요'], ['줄을짧게잡아야해요', '한적해요'], ['쉴수있는벤치가있어요', '변이많아요'], ['배변봉투수거함이있어요', '자전거가많이다녀요'], ['강아지가없어요', '쉴수있는벤치가있어요'], ['배변봉투수거함이있어요', '그늘이많아요'], ['사람이많아요', '줄을짧게잡아야해요'], ['배변봉투수거함이있어요', '뛰어놀수있는곳이있어요'], ['줄을짧게잡아야해요', '그늘이많아요'], ['강아지가없어요', '줄을짧게잡아야해요'], ['줄을짧게잡아야해요', '자전거가많이다녀요'], ['강아지가없어요', '자전거가많이다녀요'], ['한적해요', '길이더러워요'], ['나무가많아요', '배변봉투수거함이있어요'], ['변이많아요', '횡단보도가많아요'], ['그늘이많아요', '자전거가많이다녀요'], ['들판이있어요', '사람이많아요'], ['길이더러워요', '길이깨끗해요'], ['변이많아요', '배변봉투수거함이있어요'], ['변이많아요', '그늘이많아요'], ['쉴수있는벤치가있어요', '나무가많아요'], ['한적해요', '강아지들이많아요'], ['나무가많아요', '들판이있어요'], ['횡단보도가많아요', '한적해요'], ['사람이많아요', '강아지들이많아요'], ['줄을짧게잡아야해요', '길이더러워요'], ['줄을짧게잡아야해요', '배변봉투수거함이있어요'], ['길이더러워요', '그늘이많아요'], ['길이더러워요', '변이많아요'], ['쉴수있는벤치가있어요', '강아지들이많아요'], ['뛰어놀수있는곳이있어요', '강아지들이많아요'], ['배변봉투수거함이있어요', '뛰어놀수있는곳이있어요'], ['길이깨끗해요', '줄을짧게잡아야해요'], ['자전거가많이다녀요', '강아지들이많아요'], ['강아지가없어요', '횡단보도가많아요'], ['줄을짧게잡아야해요', '횡단보도가많아요'], ['나무가많아요', '그늘이많아요'], ['그늘이많아요', '배변봉투수거함이있어요'], ['들판이있어요', '배변봉투수거함이있어요'], ['자전거가많이다녀요', '변이많아요'], ['변이많아요', '줄을짧게잡아야해요'], ['길이깨끗해요', '쉴수있는벤치가있어요'], ['줄을짧게잡아야해요', '나무가많아요'], ['횡단보도가많아요', '길이깨끗해요'], ['그늘이많아요', '강아지가없어요'], ['들판이있어요', '강아지들이많아요'], ['쉴수있는벤치가있어요', '사람이많아요'], ['길이더러워요', '길이깨끗해요'], ['길이깨끗해요', '쉴수있는벤치가있어요']]\n"
     ]
    }
   ],
   "source": [
    "for i in range(2,100):\n",
    "    cnt=0\n",
    "    tmpList=[]\n",
    "    while cnt<2:\n",
    "        idx=randint(0,len(walkingKeywords)-1)\n",
    "        if(walkingKeywords[idx] in tmpList):\n",
    "            continue\n",
    "        tmpList.append(walkingKeywords[idx])\n",
    "        cnt=cnt+1\n",
    "    userKeywordsData.append(tmpList)\n",
    "\n",
    "print(userKeywordsData)\n",
    "    "
   ]
  },
  {
   "cell_type": "code",
   "execution_count": 4,
   "id": "f9082181",
   "metadata": {},
   "outputs": [],
   "source": [
    "df=pd.DataFrame(userTimeData,columns=['DURATION'])\n",
    "df['WALKING_KIND']=userKindData\n",
    "df['WALKING_LEVEL']=userLevelData\n",
    "df['KEYWORDS']=userKeywordsData"
   ]
  },
  {
   "cell_type": "code",
   "execution_count": 5,
   "id": "e5e385d5",
   "metadata": {},
   "outputs": [
    {
     "name": "stdout",
     "output_type": "stream",
     "text": [
      "   DURATION WALKING_KIND WALKING_LEVEL               KEYWORDS\n",
      "0   toohigh        climb          hard     [강아지들이많아요, 사람이많아요]\n",
      "1      high          run          easy    [길이더러워요, 자전거가많이다녀요]\n",
      "2    middle        climb        normal  [뛰어놀수있는곳이있어요, 나무가많아요]\n",
      "3      high        climb        normal     [횡단보도가많아요, 그늘이많아요]\n",
      "4       low         walk          easy         [한적해요, 그늘이많아요]\n",
      "..      ...          ...           ...                    ...\n",
      "94   middle        climb          easy      [그늘이많아요, 강아지가없어요]\n",
      "95   middle          run          hard     [들판이있어요, 강아지들이많아요]\n",
      "96   middle          run        normal   [쉴수있는벤치가있어요, 사람이많아요]\n",
      "97  toohigh        climb          hard       [길이더러워요, 길이깨끗해요]\n",
      "98     high          run          easy   [길이깨끗해요, 쉴수있는벤치가있어요]\n",
      "\n",
      "[99 rows x 4 columns]\n"
     ]
    }
   ],
   "source": [
    "print(df)"
   ]
  },
  {
   "cell_type": "code",
   "execution_count": 6,
   "id": "e389d0cf",
   "metadata": {},
   "outputs": [],
   "source": [
    "df.to_csv(\"test_data2.csv\", index = False)"
   ]
  },
  {
   "cell_type": "code",
   "execution_count": null,
   "id": "fd459f0a",
   "metadata": {},
   "outputs": [],
   "source": []
  }
 ],
 "metadata": {
  "kernelspec": {
   "display_name": "Python 3 (ipykernel)",
   "language": "python",
   "name": "python3"
  },
  "language_info": {
   "codemirror_mode": {
    "name": "ipython",
    "version": 3
   },
   "file_extension": ".py",
   "mimetype": "text/x-python",
   "name": "python",
   "nbconvert_exporter": "python",
   "pygments_lexer": "ipython3",
   "version": "3.10.9"
  }
 },
 "nbformat": 4,
 "nbformat_minor": 5
}
